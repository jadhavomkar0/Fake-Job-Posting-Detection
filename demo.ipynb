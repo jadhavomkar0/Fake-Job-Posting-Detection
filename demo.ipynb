{
 "cells": [
  {
   "cell_type": "code",
   "execution_count": 1,
   "metadata": {},
   "outputs": [],
   "source": [
    "import pandas as pd"
   ]
  },
  {
   "cell_type": "code",
   "execution_count": 2,
   "metadata": {},
   "outputs": [],
   "source": [
    "df=pd.read_csv('fake_job_postings.csv')\n"
   ]
  },
  {
   "cell_type": "code",
   "execution_count": 25,
   "metadata": {},
   "outputs": [
    {
     "name": "stdout",
     "output_type": "stream",
     "text": [
      "job_id: 1\n",
      "title: Marketing Intern\n",
      "location: US, NY, New York\n",
      "department: Marketing\n",
      "salary_range: nan\n",
      "company_profile: We're Food52, and we've created a groundbreaking and award-winning cooking site. We support, connect, and celebrate home cooks, and give them everything they need in one place.We have a top editorial, business, and engineering team. We're focused on using technology to find new and better ways to connect people around their specific food interests, and to offer them superb, highly curated information about food and cooking. We attract the most talented home cooks and contributors in the country; we also publish well-known professionals like Mario Batali, Gwyneth Paltrow, and Danny Meyer. And we have partnerships with Whole Foods Market and Random House.Food52 has been named the best food website by the James Beard Foundation and IACP, and has been featured in the New York Times, NPR, Pando Daily, TechCrunch, and on the Today Show.We're located in Chelsea, in New York City.\n",
      "description: Food52, a fast-growing, James Beard Award-winning online food community and crowd-sourced and curated recipe hub, is currently interviewing full- and part-time unpaid interns to work in a small team of editors, executives, and developers in its New York City headquarters.Reproducing and/or repackaging existing Food52 content for a number of partner sites, such as Huffington Post, Yahoo, Buzzfeed, and more in their various content management systemsResearching blogs and websites for the Provisions by Food52 Affiliate ProgramAssisting in day-to-day affiliate program support, such as screening affiliates and assisting in any affiliate inquiriesSupporting with PR &amp; Events when neededHelping with office administrative work, such as filing, mailing, and preparing for meetingsWorking with developers to document bugs and suggest improvements to the siteSupporting the marketing and executive staff\n",
      "requirements: Experience with content management systems a major plus (any blogging counts!)Familiar with the Food52 editorial voice and aestheticLoves food, appreciates the importance of home cooking and cooking with the seasonsMeticulous editor, perfectionist, obsessive attention to detail, maddened by typos and broken links, delighted by finding and fixing themCheerful under pressureExcellent communication skillsA+ multi-tasker and juggler of responsibilities big and smallInterested in and engaged with social media like Twitter, Facebook, and PinterestLoves problem-solving and collaborating to drive Food52 forwardThinks big picture but pitches in on the nitty gritty of running a small company (dishes, shopping, administrative support)Comfortable with the realities of working for a startup: being on call on evenings and weekends, and working long hours\n",
      "benefits: nan\n",
      "telecommuting: 0\n",
      "has_company_logo: 1\n",
      "has_questions: 0\n",
      "employment_type: Other\n",
      "required_experience: Internship\n",
      "required_education: nan\n",
      "industry: nan\n",
      "function: Marketing\n",
      "fraudulent: 0\n"
     ]
    }
   ],
   "source": [
    "# Print first data of each column\n",
    "print(\"job_id:\", df['job_id'][0])\n",
    "print(\"title:\", df['title'][0])\n",
    "print(\"location:\", df['location'][0])\n",
    "print(\"department:\", df['department'][0])\n",
    "print(\"salary_range:\", df['salary_range'][0])\n",
    "print(\"company_profile:\", df['company_profile'][0])\n",
    "print(\"description:\", df['description'][0])\n",
    "print(\"requirements:\", df['requirements'][0])\n",
    "print(\"benefits:\", df['benefits'][0])\n",
    "print(\"telecommuting:\", df['telecommuting'][0])\n",
    "print(\"has_company_logo:\", df['has_company_logo'][0])\n",
    "print(\"has_questions:\", df['has_questions'][0])\n",
    "print(\"employment_type:\", df['employment_type'][0])\n",
    "print(\"required_experience:\", df['required_experience'][0])\n",
    "print(\"required_education:\", df['required_education'][0])\n",
    "print(\"industry:\", df['industry'][0])\n",
    "print(\"function:\", df['function'][0])\n",
    "print(\"fraudulent:\", df['fraudulent'][0])\n"
   ]
  },
  {
   "cell_type": "code",
   "execution_count": null,
   "metadata": {},
   "outputs": [],
   "source": []
  }
 ],
 "metadata": {
  "kernelspec": {
   "display_name": "base",
   "language": "python",
   "name": "python3"
  },
  "language_info": {
   "codemirror_mode": {
    "name": "ipython",
    "version": 3
   },
   "file_extension": ".py",
   "mimetype": "text/x-python",
   "name": "python",
   "nbconvert_exporter": "python",
   "pygments_lexer": "ipython3",
   "version": "3.12.4"
  }
 },
 "nbformat": 4,
 "nbformat_minor": 2
}
